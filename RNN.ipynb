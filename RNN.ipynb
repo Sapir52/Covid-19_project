{
 "cells": [
  {
   "cell_type": "code",
   "execution_count": 1,
   "metadata": {},
   "outputs": [],
   "source": [
    "from sklearn.model_selection import train_test_split\n",
    "from tensorflow.keras.preprocessing.text import one_hot\n",
    "from tensorflow.keras.preprocessing.sequence import pad_sequences\n",
    "from sklearn.metrics import accuracy_score, precision_score, recall_score, f1_score, confusion_matrix\n",
    "import matplotlib.pyplot as plt\n",
    "import regex as re\n",
    "import nltk\n",
    "from keras import models\n",
    "from nltk.corpus import stopwords\n",
    "from nltk.stem.porter import PorterStemmer"
   ]
  },
  {
   "cell_type": "code",
   "execution_count": 2,
   "metadata": {},
   "outputs": [],
   "source": [
    "from tensorflow.keras.layers import Embedding,Flatten,Dense,LSTM\n",
    "from tensorflow.keras.models import Sequential\n",
    "import numpy as np # linear algebra\n",
    "import pandas as pd # data processing, CSV file I/O (e.g. pd.read_csv)\n",
    "import tensorflow as tf\n",
    "from keras.preprocessing.text import Tokenizer"
   ]
  },
  {
   "cell_type": "code",
   "execution_count": 3,
   "metadata": {},
   "outputs": [],
   "source": [
    "from sklearn.metrics import precision_recall_fscore_support as score\n",
    "from sklearn.datasets import make_classification\n",
    "#from sklearn.cross_validation import StratifiedShuffleSplit\n",
    "from sklearn.metrics import accuracy_score, f1_score, precision_score, recall_score, classification_report, confusion_matrix\n",
    "import seaborn as sns"
   ]
  },
  {
   "cell_type": "code",
   "execution_count": 4,
   "metadata": {},
   "outputs": [],
   "source": [
    "from numpy.random import seed\n",
    "seed(1)\n",
    "tf.random.set_seed(1)"
   ]
  },
  {
   "cell_type": "code",
   "execution_count": 5,
   "metadata": {},
   "outputs": [
    {
     "data": {
      "text/html": [
       "<div>\n",
       "<style scoped>\n",
       "    .dataframe tbody tr th:only-of-type {\n",
       "        vertical-align: middle;\n",
       "    }\n",
       "\n",
       "    .dataframe tbody tr th {\n",
       "        vertical-align: top;\n",
       "    }\n",
       "\n",
       "    .dataframe thead th {\n",
       "        text-align: right;\n",
       "    }\n",
       "</style>\n",
       "<table border=\"1\" class=\"dataframe\">\n",
       "  <thead>\n",
       "    <tr style=\"text-align: right;\">\n",
       "      <th></th>\n",
       "      <th>title</th>\n",
       "      <th>text</th>\n",
       "      <th>source</th>\n",
       "      <th>label</th>\n",
       "    </tr>\n",
       "  </thead>\n",
       "  <tbody>\n",
       "    <tr>\n",
       "      <th>0</th>\n",
       "      <td>due recent outbreak coronavirus covid world he...</td>\n",
       "      <td>need add water drugs vaccines ready administer...</td>\n",
       "      <td>coronavirusmedicalkit com</td>\n",
       "      <td>fake</td>\n",
       "    </tr>\n",
       "    <tr>\n",
       "      <th>1</th>\n",
       "      <td>basic protective measures new coronavirus</td>\n",
       "      <td>stay aware latest information covid outbreak a...</td>\n",
       "      <td>ww int emergencies diseases novel coronavirus ...</td>\n",
       "      <td>true</td>\n",
       "    </tr>\n",
       "    <tr>\n",
       "      <th>2</th>\n",
       "      <td>exposing sun temperatures higher c degrees pre...</td>\n",
       "      <td>catch covid matter sunny hot weather countries...</td>\n",
       "      <td>ww int emergencies diseases novel coronavirus ...</td>\n",
       "      <td>true</td>\n",
       "    </tr>\n",
       "    <tr>\n",
       "      <th>3</th>\n",
       "      <td>able hold breath seconds without coughing feel...</td>\n",
       "      <td>common symptoms covid dry cough tiredness feve...</td>\n",
       "      <td>ww int emergencies diseases novel coronavirus ...</td>\n",
       "      <td>true</td>\n",
       "    </tr>\n",
       "    <tr>\n",
       "      <th>4</th>\n",
       "      <td>drinking alcohol protect covid dangerous</td>\n",
       "      <td>frequent excessive alcohol consumption increas...</td>\n",
       "      <td>ww int emergencies diseases novel coronavirus ...</td>\n",
       "      <td>true</td>\n",
       "    </tr>\n",
       "    <tr>\n",
       "      <th>...</th>\n",
       "      <td>...</td>\n",
       "      <td>...</td>\n",
       "      <td>...</td>\n",
       "      <td>...</td>\n",
       "    </tr>\n",
       "    <tr>\n",
       "      <th>1054</th>\n",
       "      <td>could power sun slow coronavirus</td>\n",
       "      <td>study suggests ultraviolet rays could slow vir...</td>\n",
       "      <td>ww nytimes com</td>\n",
       "      <td>true</td>\n",
       "    </tr>\n",
       "    <tr>\n",
       "      <th>1055</th>\n",
       "      <td>key evidence coronavirus spread flawed public ...</td>\n",
       "      <td>last week medical journal reported business tr...</td>\n",
       "      <td>ww nytimes com</td>\n",
       "      <td>true</td>\n",
       "    </tr>\n",
       "    <tr>\n",
       "      <th>1056</th>\n",
       "      <td>summer heat may diminish coronavirus strength</td>\n",
       "      <td>new report sent white house science adviser sa...</td>\n",
       "      <td>ww nytimes com</td>\n",
       "      <td>true</td>\n",
       "    </tr>\n",
       "    <tr>\n",
       "      <th>1057</th>\n",
       "      <td>long vaccine really take</td>\n",
       "      <td>vaccine would ultimate weapon coronavirus best...</td>\n",
       "      <td>ww nytimes com</td>\n",
       "      <td>true</td>\n",
       "    </tr>\n",
       "    <tr>\n",
       "      <th>1058</th>\n",
       "      <td>funding covid response could best investment b...</td>\n",
       "      <td>developing delivering coronavirus vaccines tes...</td>\n",
       "      <td>ww nytimes com</td>\n",
       "      <td>true</td>\n",
       "    </tr>\n",
       "  </tbody>\n",
       "</table>\n",
       "<p>1059 rows × 4 columns</p>\n",
       "</div>"
      ],
      "text/plain": [
       "                                                  title  \\\n",
       "0     due recent outbreak coronavirus covid world he...   \n",
       "1             basic protective measures new coronavirus   \n",
       "2     exposing sun temperatures higher c degrees pre...   \n",
       "3     able hold breath seconds without coughing feel...   \n",
       "4              drinking alcohol protect covid dangerous   \n",
       "...                                                 ...   \n",
       "1054                   could power sun slow coronavirus   \n",
       "1055  key evidence coronavirus spread flawed public ...   \n",
       "1056      summer heat may diminish coronavirus strength   \n",
       "1057                           long vaccine really take   \n",
       "1058  funding covid response could best investment b...   \n",
       "\n",
       "                                                   text  \\\n",
       "0     need add water drugs vaccines ready administer...   \n",
       "1     stay aware latest information covid outbreak a...   \n",
       "2     catch covid matter sunny hot weather countries...   \n",
       "3     common symptoms covid dry cough tiredness feve...   \n",
       "4     frequent excessive alcohol consumption increas...   \n",
       "...                                                 ...   \n",
       "1054  study suggests ultraviolet rays could slow vir...   \n",
       "1055  last week medical journal reported business tr...   \n",
       "1056  new report sent white house science adviser sa...   \n",
       "1057  vaccine would ultimate weapon coronavirus best...   \n",
       "1058  developing delivering coronavirus vaccines tes...   \n",
       "\n",
       "                                                 source label  \n",
       "0                             coronavirusmedicalkit com  fake  \n",
       "1     ww int emergencies diseases novel coronavirus ...  true  \n",
       "2     ww int emergencies diseases novel coronavirus ...  true  \n",
       "3     ww int emergencies diseases novel coronavirus ...  true  \n",
       "4     ww int emergencies diseases novel coronavirus ...  true  \n",
       "...                                                 ...   ...  \n",
       "1054                                     ww nytimes com  true  \n",
       "1055                                     ww nytimes com  true  \n",
       "1056                                     ww nytimes com  true  \n",
       "1057                                     ww nytimes com  true  \n",
       "1058                                     ww nytimes com  true  \n",
       "\n",
       "[1059 rows x 4 columns]"
      ]
     },
     "execution_count": 5,
     "metadata": {},
     "output_type": "execute_result"
    }
   ],
   "source": [
    "url='image_data/'\n",
    "df_data_covid_19 = pd.read_csv('data/preprocessing.csv')\n",
    "df_data_covid_19"
   ]
  },
  {
   "cell_type": "code",
   "execution_count": 6,
   "metadata": {},
   "outputs": [],
   "source": [
    "def merge_3_columns(df):\n",
    "    df['title_text_source'] = df['title'] + ' ' + df['text'] + ' ' + df['source']\n",
    "    return df.dropna()\n",
    "\n",
    "df_data_covid_19=merge_3_columns(df_data_covid_19)"
   ]
  },
  {
   "cell_type": "code",
   "execution_count": 7,
   "metadata": {},
   "outputs": [
    {
     "name": "stderr",
     "output_type": "stream",
     "text": [
      "<ipython-input-7-cc09997627b7>:1: SettingWithCopyWarning: \n",
      "A value is trying to be set on a copy of a slice from a DataFrame.\n",
      "Try using .loc[row_indexer,col_indexer] = value instead\n",
      "\n",
      "See the caveats in the documentation: https://pandas.pydata.org/pandas-docs/stable/user_guide/indexing.html#returning-a-view-versus-a-copy\n",
      "  df_data_covid_19['label']=df_data_covid_19['label'].replace('true',1).replace('fake',0)\n"
     ]
    }
   ],
   "source": [
    "df_data_covid_19['label']=df_data_covid_19['label'].replace('true',1).replace('fake',0)"
   ]
  },
  {
   "cell_type": "markdown",
   "metadata": {},
   "source": [
    "# Division of the dataframe"
   ]
  },
  {
   "cell_type": "code",
   "execution_count": 8,
   "metadata": {},
   "outputs": [
    {
     "data": {
      "text/plain": [
       "211"
      ]
     },
     "execution_count": 8,
     "metadata": {},
     "output_type": "execute_result"
    }
   ],
   "source": [
    "int(len(df_data_covid_19)*0.2)"
   ]
  },
  {
   "cell_type": "code",
   "execution_count": 9,
   "metadata": {},
   "outputs": [],
   "source": [
    "data_test =df_data_covid_19.iloc[:211]\n",
    "data_modle =df_data_covid_19.iloc[211:]"
   ]
  },
  {
   "cell_type": "markdown",
   "metadata": {},
   "source": [
    "## RNN"
   ]
  },
  {
   "cell_type": "code",
   "execution_count": 10,
   "metadata": {},
   "outputs": [],
   "source": [
    "vocab_size=5000\n",
    "y=data_modle['label']"
   ]
  },
  {
   "cell_type": "code",
   "execution_count": 32,
   "metadata": {},
   "outputs": [],
   "source": [
    "def one_hot_and_embedded(data_,vocab_size):\n",
    "    messages=data_.copy()\n",
    "    messages.reset_index(inplace=True)\n",
    "    messages=messages['title_text_source']\n",
    "    one_hot_rep=[one_hot(words,vocab_size) for words in messages]\n",
    "    embedded_docs=pad_sequences(one_hot_rep,padding='pre',maxlen=60)\n",
    "    return embedded_docs"
   ]
  },
  {
   "cell_type": "code",
   "execution_count": 33,
   "metadata": {},
   "outputs": [
    {
     "name": "stdout",
     "output_type": "stream",
     "text": [
      "[2665, 3853]\n"
     ]
    },
    {
     "data": {
      "text/plain": [
       "array([ 929, 2186, 1632, 2306,  277,    7, 1884,  682, 4678, 2942,  189,\n",
       "       4437, 4274, 4961, 4397, 4187, 2165, 2188, 1165, 3881, 4523,  983,\n",
       "       4523, 1219, 1021, 4380, 1365, 2749, 2430, 1176,  294, 3807, 3050,\n",
       "        687, 4033, 3807,  219, 1726, 2257, 4187, 3285, 3512, 3264, 3907,\n",
       "        819, 1325,  791, 1210, 3530, 1365, 1163, 1459, 4380, 1380, 2506,\n",
       "       4238, 1380, 2277, 4363, 1380])"
      ]
     },
     "execution_count": 33,
     "metadata": {},
     "output_type": "execute_result"
    }
   ],
   "source": [
    "embedded_docs=one_hot_and_embedded(data_modle,vocab_size)\n",
    "embedded_docs[0]"
   ]
  },
  {
   "cell_type": "code",
   "execution_count": 13,
   "metadata": {},
   "outputs": [],
   "source": [
    "def get_model(vocab_size):\n",
    "    embedded_features=40\n",
    "    model=Sequential()\n",
    "    model.add(Embedding(vocab_size,embedded_features,input_length=60))\n",
    "    model.add(LSTM(100))\n",
    "    model.add(Dense(1,activation='sigmoid'))\n",
    "    model.summary()\n",
    "    model.compile(loss='binary_crossentropy',optimizer='adam',metrics=['accuracy'])\n",
    "    return model"
   ]
  },
  {
   "cell_type": "code",
   "execution_count": 14,
   "metadata": {},
   "outputs": [
    {
     "name": "stdout",
     "output_type": "stream",
     "text": [
      "Model: \"sequential\"\n",
      "_________________________________________________________________\n",
      "Layer (type)                 Output Shape              Param #   \n",
      "=================================================================\n",
      "embedding (Embedding)        (None, 60, 40)            200000    \n",
      "_________________________________________________________________\n",
      "lstm (LSTM)                  (None, 100)               56400     \n",
      "_________________________________________________________________\n",
      "dense (Dense)                (None, 1)                 101       \n",
      "=================================================================\n",
      "Total params: 256,501\n",
      "Trainable params: 256,501\n",
      "Non-trainable params: 0\n",
      "_________________________________________________________________\n"
     ]
    }
   ],
   "source": [
    "model=get_model(vocab_size)"
   ]
  },
  {
   "cell_type": "code",
   "execution_count": 15,
   "metadata": {},
   "outputs": [],
   "source": [
    "def fit_and_split(embedded_docs,y,model,vocab_size):\n",
    "    X_final=np.asarray(embedded_docs)\n",
    "    y_final=np.asarray(y)\n",
    "    X_train,X_test,y_train,y_test=train_test_split(X_final,y_final)\n",
    "    history=model.fit(X_train,y_train,validation_data=(X_test,y_test),epochs=50)\n",
    "    # save model\n",
    "    model.save(\"data/rnn_model\")\n",
    "    np.save('data/rnn_history.npy',history.history)\n",
    "    return X_test, y_test"
   ]
  },
  {
   "cell_type": "code",
   "execution_count": 16,
   "metadata": {},
   "outputs": [
    {
     "name": "stdout",
     "output_type": "stream",
     "text": [
      "Epoch 1/50\n",
      "20/20 [==============================] - 5s 127ms/step - loss: 0.6835 - accuracy: 0.5262 - val_loss: 0.6216 - val_accuracy: 0.5849\n",
      "Epoch 2/50\n",
      "20/20 [==============================] - 1s 33ms/step - loss: 0.4767 - accuracy: 0.7097 - val_loss: 0.3860 - val_accuracy: 0.9009\n",
      "Epoch 3/50\n",
      "20/20 [==============================] - 1s 30ms/step - loss: 0.3869 - accuracy: 0.9515 - val_loss: 0.4463 - val_accuracy: 0.8915\n",
      "Epoch 4/50\n",
      "20/20 [==============================] - 1s 29ms/step - loss: 0.2992 - accuracy: 0.9525 - val_loss: 0.2631 - val_accuracy: 0.8868\n",
      "Epoch 5/50\n",
      "20/20 [==============================] - 1s 29ms/step - loss: 0.0687 - accuracy: 0.9834 - val_loss: 0.2504 - val_accuracy: 0.8962\n",
      "Epoch 6/50\n",
      "20/20 [==============================] - 1s 31ms/step - loss: 0.0209 - accuracy: 0.9969 - val_loss: 0.2277 - val_accuracy: 0.9057\n",
      "Epoch 7/50\n",
      "20/20 [==============================] - 1s 41ms/step - loss: 0.0209 - accuracy: 1.0000 - val_loss: 0.2259 - val_accuracy: 0.9104\n",
      "Epoch 8/50\n",
      "20/20 [==============================] - 1s 37ms/step - loss: 0.0116 - accuracy: 0.9991 - val_loss: 0.2615 - val_accuracy: 0.9151\n",
      "Epoch 9/50\n",
      "20/20 [==============================] - 1s 36ms/step - loss: 0.0220 - accuracy: 1.0000 - val_loss: 0.5160 - val_accuracy: 0.8679\n",
      "Epoch 10/50\n",
      "20/20 [==============================] - 1s 37ms/step - loss: 0.0027 - accuracy: 1.0000 - val_loss: 0.5613 - val_accuracy: 0.8726\n",
      "Epoch 11/50\n",
      "20/20 [==============================] - 1s 37ms/step - loss: 0.0013 - accuracy: 1.0000 - val_loss: 0.5921 - val_accuracy: 0.8679\n",
      "Epoch 12/50\n",
      "20/20 [==============================] - 1s 37ms/step - loss: 0.0011 - accuracy: 1.0000 - val_loss: 0.6316 - val_accuracy: 0.8679\n",
      "Epoch 13/50\n",
      "20/20 [==============================] - 1s 38ms/step - loss: 9.2199e-04 - accuracy: 1.0000 - val_loss: 0.6655 - val_accuracy: 0.8679\n",
      "Epoch 14/50\n",
      "20/20 [==============================] - 1s 39ms/step - loss: 6.9037e-04 - accuracy: 1.0000 - val_loss: 0.6928 - val_accuracy: 0.8679\n",
      "Epoch 15/50\n",
      "20/20 [==============================] - 1s 37ms/step - loss: 6.6004e-04 - accuracy: 1.0000 - val_loss: 0.7167 - val_accuracy: 0.8679\n",
      "Epoch 16/50\n",
      "20/20 [==============================] - 1s 37ms/step - loss: 6.3508e-04 - accuracy: 1.0000 - val_loss: 0.7379 - val_accuracy: 0.8679\n",
      "Epoch 17/50\n",
      "20/20 [==============================] - 1s 37ms/step - loss: 5.6069e-04 - accuracy: 1.0000 - val_loss: 0.7579 - val_accuracy: 0.8679\n",
      "Epoch 18/50\n",
      "20/20 [==============================] - 1s 37ms/step - loss: 5.0288e-04 - accuracy: 1.0000 - val_loss: 0.7785 - val_accuracy: 0.8632\n",
      "Epoch 19/50\n",
      "20/20 [==============================] - 1s 38ms/step - loss: 4.7833e-04 - accuracy: 1.0000 - val_loss: 0.8024 - val_accuracy: 0.8632\n",
      "Epoch 20/50\n",
      "20/20 [==============================] - 1s 37ms/step - loss: 4.0194e-04 - accuracy: 1.0000 - val_loss: 0.8299 - val_accuracy: 0.8632\n",
      "Epoch 21/50\n",
      "20/20 [==============================] - 1s 40ms/step - loss: 3.9269e-04 - accuracy: 1.0000 - val_loss: 0.8502 - val_accuracy: 0.8632\n",
      "Epoch 22/50\n",
      "20/20 [==============================] - 1s 36ms/step - loss: 3.7367e-04 - accuracy: 1.0000 - val_loss: 0.8650 - val_accuracy: 0.8632\n",
      "Epoch 23/50\n",
      "20/20 [==============================] - 1s 37ms/step - loss: 3.3331e-04 - accuracy: 1.0000 - val_loss: 0.8776 - val_accuracy: 0.8632\n",
      "Epoch 24/50\n",
      "20/20 [==============================] - 1s 33ms/step - loss: 3.3127e-04 - accuracy: 1.0000 - val_loss: 0.8888 - val_accuracy: 0.8632\n",
      "Epoch 25/50\n",
      "20/20 [==============================] - 1s 34ms/step - loss: 3.1189e-04 - accuracy: 1.0000 - val_loss: 0.8983 - val_accuracy: 0.8585\n",
      "Epoch 26/50\n",
      "20/20 [==============================] - 1s 39ms/step - loss: 2.9292e-04 - accuracy: 1.0000 - val_loss: 0.9085 - val_accuracy: 0.8585\n",
      "Epoch 27/50\n",
      "20/20 [==============================] - 1s 35ms/step - loss: 2.4988e-04 - accuracy: 1.0000 - val_loss: 0.9176 - val_accuracy: 0.8585\n",
      "Epoch 28/50\n",
      "20/20 [==============================] - 1s 33ms/step - loss: 2.5158e-04 - accuracy: 1.0000 - val_loss: 0.9269 - val_accuracy: 0.8585\n",
      "Epoch 29/50\n",
      "20/20 [==============================] - 1s 34ms/step - loss: 2.4088e-04 - accuracy: 1.0000 - val_loss: 0.9352 - val_accuracy: 0.8585\n",
      "Epoch 30/50\n",
      "20/20 [==============================] - 1s 34ms/step - loss: 2.3138e-04 - accuracy: 1.0000 - val_loss: 0.9442 - val_accuracy: 0.8585\n",
      "Epoch 31/50\n",
      "20/20 [==============================] - 1s 33ms/step - loss: 2.2159e-04 - accuracy: 1.0000 - val_loss: 0.9528 - val_accuracy: 0.8585\n",
      "Epoch 32/50\n",
      "20/20 [==============================] - 1s 33ms/step - loss: 1.9353e-04 - accuracy: 1.0000 - val_loss: 0.9601 - val_accuracy: 0.8585\n",
      "Epoch 33/50\n",
      "20/20 [==============================] - 1s 37ms/step - loss: 1.9289e-04 - accuracy: 1.0000 - val_loss: 0.9677 - val_accuracy: 0.8585\n",
      "Epoch 34/50\n",
      "20/20 [==============================] - 1s 38ms/step - loss: 1.7333e-04 - accuracy: 1.0000 - val_loss: 0.9766 - val_accuracy: 0.8538\n",
      "Epoch 35/50\n",
      "20/20 [==============================] - 1s 35ms/step - loss: 1.7009e-04 - accuracy: 1.0000 - val_loss: 0.9857 - val_accuracy: 0.8538\n",
      "Epoch 36/50\n",
      "20/20 [==============================] - 1s 32ms/step - loss: 1.7920e-04 - accuracy: 1.0000 - val_loss: 0.9980 - val_accuracy: 0.8538\n",
      "Epoch 37/50\n",
      "20/20 [==============================] - 1s 32ms/step - loss: 1.5503e-04 - accuracy: 1.0000 - val_loss: 1.0068 - val_accuracy: 0.8538\n",
      "Epoch 38/50\n",
      "20/20 [==============================] - 1s 32ms/step - loss: 1.4202e-04 - accuracy: 1.0000 - val_loss: 1.0185 - val_accuracy: 0.8538\n",
      "Epoch 39/50\n",
      "20/20 [==============================] - 1s 34ms/step - loss: 1.4848e-04 - accuracy: 1.0000 - val_loss: 1.0292 - val_accuracy: 0.8538\n",
      "Epoch 40/50\n",
      "20/20 [==============================] - 1s 39ms/step - loss: 1.4094e-04 - accuracy: 1.0000 - val_loss: 1.0390 - val_accuracy: 0.8538\n",
      "Epoch 41/50\n",
      "20/20 [==============================] - 1s 33ms/step - loss: 1.2577e-04 - accuracy: 1.0000 - val_loss: 1.0478 - val_accuracy: 0.8538\n",
      "Epoch 42/50\n",
      "20/20 [==============================] - 1s 36ms/step - loss: 1.3947e-04 - accuracy: 1.0000 - val_loss: 1.0548 - val_accuracy: 0.8538\n",
      "Epoch 43/50\n",
      "20/20 [==============================] - 1s 40ms/step - loss: 1.2999e-04 - accuracy: 1.0000 - val_loss: 1.0625 - val_accuracy: 0.8538\n",
      "Epoch 44/50\n",
      "20/20 [==============================] - 1s 38ms/step - loss: 1.2079e-04 - accuracy: 1.0000 - val_loss: 1.0693 - val_accuracy: 0.8538\n",
      "Epoch 45/50\n",
      "20/20 [==============================] - 1s 39ms/step - loss: 1.0925e-04 - accuracy: 1.0000 - val_loss: 1.0777 - val_accuracy: 0.8538\n",
      "Epoch 46/50\n",
      "20/20 [==============================] - 1s 39ms/step - loss: 1.0849e-04 - accuracy: 1.0000 - val_loss: 1.0807 - val_accuracy: 0.8538\n",
      "Epoch 47/50\n",
      "20/20 [==============================] - 1s 38ms/step - loss: 1.0385e-04 - accuracy: 1.0000 - val_loss: 1.0867 - val_accuracy: 0.8538\n",
      "Epoch 48/50\n",
      "20/20 [==============================] - 1s 40ms/step - loss: 1.0056e-04 - accuracy: 1.0000 - val_loss: 1.0925 - val_accuracy: 0.8538\n",
      "Epoch 49/50\n",
      "20/20 [==============================] - 1s 39ms/step - loss: 9.2817e-05 - accuracy: 1.0000 - val_loss: 1.0984 - val_accuracy: 0.8538\n",
      "Epoch 50/50\n",
      "20/20 [==============================] - 1s 39ms/step - loss: 9.3302e-05 - accuracy: 1.0000 - val_loss: 1.1018 - val_accuracy: 0.8538\n"
     ]
    },
    {
     "name": "stderr",
     "output_type": "stream",
     "text": [
      "WARNING:absl:Found untraced functions such as lstm_cell_layer_call_fn, lstm_cell_layer_call_and_return_conditional_losses, lstm_cell_layer_call_fn, lstm_cell_layer_call_and_return_conditional_losses, lstm_cell_layer_call_and_return_conditional_losses while saving (showing 5 of 5). These functions will not be directly callable after loading.\n",
      "WARNING:absl:Found untraced functions such as lstm_cell_layer_call_fn, lstm_cell_layer_call_and_return_conditional_losses, lstm_cell_layer_call_fn, lstm_cell_layer_call_and_return_conditional_losses, lstm_cell_layer_call_and_return_conditional_losses while saving (showing 5 of 5). These functions will not be directly callable after loading.\n"
     ]
    },
    {
     "name": "stdout",
     "output_type": "stream",
     "text": [
      "INFO:tensorflow:Assets written to: data/rnn_model\\assets\n"
     ]
    },
    {
     "name": "stderr",
     "output_type": "stream",
     "text": [
      "INFO:tensorflow:Assets written to: data/rnn_model\\assets\n"
     ]
    }
   ],
   "source": [
    "X_test, y_test=fit_and_split(embedded_docs,y,model,vocab_size)"
   ]
  },
  {
   "cell_type": "code",
   "execution_count": 17,
   "metadata": {},
   "outputs": [
    {
     "name": "stdout",
     "output_type": "stream",
     "text": [
      "Model: \"sequential\"\n",
      "_________________________________________________________________\n",
      "Layer (type)                 Output Shape              Param #   \n",
      "=================================================================\n",
      "embedding (Embedding)        (None, 60, 40)            200000    \n",
      "_________________________________________________________________\n",
      "lstm (LSTM)                  (None, 100)               56400     \n",
      "_________________________________________________________________\n",
      "dense (Dense)                (None, 1)                 101       \n",
      "=================================================================\n",
      "Total params: 256,501\n",
      "Trainable params: 256,501\n",
      "Non-trainable params: 0\n",
      "_________________________________________________________________\n"
     ]
    }
   ],
   "source": [
    "# load model\n",
    "load_history=np.load('data/rnn_history.npy',allow_pickle='TRUE').item()\n",
    "train_model = models.load_model(\"data/rnn_model\")\n",
    "train_model.summary()"
   ]
  },
  {
   "cell_type": "code",
   "execution_count": 18,
   "metadata": {},
   "outputs": [],
   "source": [
    "def loss_model(name_loss):\n",
    "    plt.plot(load_history[name_loss],'b',label='train_'+name_loss)\n",
    "    plt.plot(load_history['val_'+name_loss],'r',label='val_'+name_loss)\n",
    "    plt.savefig(url+name_loss+'.png')\n",
    "    plt.legend()\n",
    "    plt.show()\n",
    "    plt.close()"
   ]
  },
  {
   "cell_type": "code",
   "execution_count": 19,
   "metadata": {},
   "outputs": [
    {
     "data": {
      "image/png": "[encoded data removed]",
      "text/plain": [
       "<Figure size 432x288 with 1 Axes>"
      ]
     },
     "metadata": {
      "needs_background": "light"
     },
     "output_type": "display_data"
    }
   ],
   "source": [
    "loss_model('accuracy')"
   ]
  },
  {
   "cell_type": "code",
   "execution_count": 20,
   "metadata": {},
   "outputs": [
    {
     "data": {
      "image/png": "[encoded data removed]",
      "text/plain": [
       "<Figure size 432x288 with 1 Axes>"
      ]
     },
     "metadata": {
      "needs_background": "light"
     },
     "output_type": "display_data"
    }
   ],
   "source": [
    "loss_model('loss')"
   ]
  },
  {
   "cell_type": "code",
   "execution_count": 21,
   "metadata": {},
   "outputs": [
    {
     "name": "stdout",
     "output_type": "stream",
     "text": [
      "7/7 [==============================] - 1s 12ms/step - loss: 1.1018 - accuracy: 0.8538\n",
      "[1.101843237876892, 0.8537735939025879]\n"
     ]
    }
   ],
   "source": [
    "print(train_model.evaluate(X_test, y_test))"
   ]
  },
  {
   "cell_type": "code",
   "execution_count": 22,
   "metadata": {
    "scrolled": true
   },
   "outputs": [
    {
     "name": "stdout",
     "output_type": "stream",
     "text": [
      "Accuracy Classifier: 85.38%\n",
      "              precision    recall  f1-score   support\n",
      "\n",
      "           0       0.76      0.87      0.81        77\n",
      "           1       0.92      0.84      0.88       135\n",
      "\n",
      "    accuracy                           0.85       212\n",
      "   macro avg       0.84      0.86      0.85       212\n",
      "weighted avg       0.86      0.85      0.86       212\n",
      "\n"
     ]
    },
    {
     "data": {
      "image/png": "[encoded data removed]",
      "text/plain": [
       "<Figure size 432x432 with 1 Axes>"
      ]
     },
     "metadata": {
      "needs_background": "light"
     },
     "output_type": "display_data"
    }
   ],
   "source": [
    "pred = train_model.predict(X_test)\n",
    "binary_predictions = []\n",
    "\n",
    "for i in pred:\n",
    "    if i >= 0.5:\n",
    "        binary_predictions.append(1)\n",
    "    else:\n",
    "        binary_predictions.append(0) \n",
    "        \n",
    "print(\"Accuracy Classifier: {}%\".format(round(accuracy_score(binary_predictions, y_test)*100,2)))\n",
    "print(classification_report(binary_predictions, y_test))\n",
    "\n",
    "# confusion matrix\n",
    "cm = confusion_matrix(binary_predictions, y_test)\n",
    "\n",
    "plt.figure(figsize=(6,6))\n",
    "sns.heatmap(cm, annot=True, fmt='d', xticklabels=['FAKE', 'TRUE'], yticklabels=['FAKE', 'TRUE'], cmap=plt.cm.Blues, cbar=False)\n",
    "plt.xlabel('Predicted Label')\n",
    "plt.ylabel('True Label')\n",
    "plt.title('RNN')\n",
    "plt.savefig(url+'RNN.png')\n",
    "plt.show()"
   ]
  },
  {
   "cell_type": "code",
   "execution_count": 23,
   "metadata": {},
   "outputs": [],
   "source": [
    "def get_predict(data_test,vocab_size):\n",
    "    test_data_new= one_hot_and_embedded(data_test,vocab_size)\n",
    "    test_data_new = np.array(test_data_new)\n",
    "    pred=train_model.predict(test_data_new)\n",
    "    data_test['predict']=np.round(pred).astype('int')\n",
    "    return data_test"
   ]
  },
  {
   "cell_type": "code",
   "execution_count": 24,
   "metadata": {},
   "outputs": [
    {
     "name": "stderr",
     "output_type": "stream",
     "text": [
      "<ipython-input-23-aa3466540a91>:5: SettingWithCopyWarning: \n",
      "A value is trying to be set on a copy of a slice from a DataFrame.\n",
      "Try using .loc[row_indexer,col_indexer] = value instead\n",
      "\n",
      "See the caveats in the documentation: https://pandas.pydata.org/pandas-docs/stable/user_guide/indexing.html#returning-a-view-versus-a-copy\n",
      "  data_test['predict']=np.round(pred).astype('int')\n"
     ]
    }
   ],
   "source": [
    "data_test= get_predict(data_test,vocab_size)"
   ]
  },
  {
   "cell_type": "code",
   "execution_count": 25,
   "metadata": {},
   "outputs": [
    {
     "data": {
      "text/html": [
       "<div>\n",
       "<style scoped>\n",
       "    .dataframe tbody tr th:only-of-type {\n",
       "        vertical-align: middle;\n",
       "    }\n",
       "\n",
       "    .dataframe tbody tr th {\n",
       "        vertical-align: top;\n",
       "    }\n",
       "\n",
       "    .dataframe thead th {\n",
       "        text-align: right;\n",
       "    }\n",
       "</style>\n",
       "<table border=\"1\" class=\"dataframe\">\n",
       "  <thead>\n",
       "    <tr style=\"text-align: right;\">\n",
       "      <th></th>\n",
       "      <th>title</th>\n",
       "      <th>text</th>\n",
       "      <th>source</th>\n",
       "      <th>label</th>\n",
       "      <th>title_text_source</th>\n",
       "      <th>predict</th>\n",
       "    </tr>\n",
       "  </thead>\n",
       "  <tbody>\n",
       "    <tr>\n",
       "      <th>0</th>\n",
       "      <td>due recent outbreak coronavirus covid world he...</td>\n",
       "      <td>need add water drugs vaccines ready administer...</td>\n",
       "      <td>coronavirusmedicalkit com</td>\n",
       "      <td>0</td>\n",
       "      <td>due recent outbreak coronavirus covid world he...</td>\n",
       "      <td>1</td>\n",
       "    </tr>\n",
       "    <tr>\n",
       "      <th>1</th>\n",
       "      <td>basic protective measures new coronavirus</td>\n",
       "      <td>stay aware latest information covid outbreak a...</td>\n",
       "      <td>ww int emergencies diseases novel coronavirus ...</td>\n",
       "      <td>1</td>\n",
       "      <td>basic protective measures new coronavirus stay...</td>\n",
       "      <td>1</td>\n",
       "    </tr>\n",
       "    <tr>\n",
       "      <th>2</th>\n",
       "      <td>exposing sun temperatures higher c degrees pre...</td>\n",
       "      <td>catch covid matter sunny hot weather countries...</td>\n",
       "      <td>ww int emergencies diseases novel coronavirus ...</td>\n",
       "      <td>1</td>\n",
       "      <td>exposing sun temperatures higher c degrees pre...</td>\n",
       "      <td>1</td>\n",
       "    </tr>\n",
       "    <tr>\n",
       "      <th>3</th>\n",
       "      <td>able hold breath seconds without coughing feel...</td>\n",
       "      <td>common symptoms covid dry cough tiredness feve...</td>\n",
       "      <td>ww int emergencies diseases novel coronavirus ...</td>\n",
       "      <td>1</td>\n",
       "      <td>able hold breath seconds without coughing feel...</td>\n",
       "      <td>1</td>\n",
       "    </tr>\n",
       "    <tr>\n",
       "      <th>4</th>\n",
       "      <td>drinking alcohol protect covid dangerous</td>\n",
       "      <td>frequent excessive alcohol consumption increas...</td>\n",
       "      <td>ww int emergencies diseases novel coronavirus ...</td>\n",
       "      <td>1</td>\n",
       "      <td>drinking alcohol protect covid dangerous frequ...</td>\n",
       "      <td>1</td>\n",
       "    </tr>\n",
       "    <tr>\n",
       "      <th>...</th>\n",
       "      <td>...</td>\n",
       "      <td>...</td>\n",
       "      <td>...</td>\n",
       "      <td>...</td>\n",
       "      <td>...</td>\n",
       "      <td>...</td>\n",
       "    </tr>\n",
       "    <tr>\n",
       "      <th>206</th>\n",
       "      <td>vaccine job eugenicist bill gates demands digi...</td>\n",
       "      <td>march outspoken eugenicist bill gates particip...</td>\n",
       "      <td>ww banned news</td>\n",
       "      <td>0</td>\n",
       "      <td>vaccine job eugenicist bill gates demands digi...</td>\n",
       "      <td>0</td>\n",
       "    </tr>\n",
       "    <tr>\n",
       "      <th>207</th>\n",
       "      <td>vaccine job eugenicist bill gates demands digi...</td>\n",
       "      <td>march outspoken eugenicist bill gates particip...</td>\n",
       "      <td>ww biased news</td>\n",
       "      <td>0</td>\n",
       "      <td>vaccine job eugenicist bill gates demands digi...</td>\n",
       "      <td>0</td>\n",
       "    </tr>\n",
       "    <tr>\n",
       "      <th>208</th>\n",
       "      <td>coronavirus manufactured bioweapon chinese spi...</td>\n",
       "      <td>mysterious shipment sent canada china found co...</td>\n",
       "      <td>ww biased news</td>\n",
       "      <td>0</td>\n",
       "      <td>coronavirus manufactured bioweapon chinese spi...</td>\n",
       "      <td>0</td>\n",
       "    </tr>\n",
       "    <tr>\n",
       "      <th>209</th>\n",
       "      <td>special report mike adams joins alex jones rev...</td>\n",
       "      <td>today joined alex jones infowars studios recor...</td>\n",
       "      <td>ww biased news</td>\n",
       "      <td>0</td>\n",
       "      <td>special report mike adams joins alex jones rev...</td>\n",
       "      <td>0</td>\n",
       "    </tr>\n",
       "    <tr>\n",
       "      <th>210</th>\n",
       "      <td>special report mike adams joins alex jones rev...</td>\n",
       "      <td>today joined alex jones infowars studios recor...</td>\n",
       "      <td>ww bioterrorism news</td>\n",
       "      <td>0</td>\n",
       "      <td>special report mike adams joins alex jones rev...</td>\n",
       "      <td>0</td>\n",
       "    </tr>\n",
       "  </tbody>\n",
       "</table>\n",
       "<p>211 rows × 6 columns</p>\n",
       "</div>"
      ],
      "text/plain": [
       "                                                 title  \\\n",
       "0    due recent outbreak coronavirus covid world he...   \n",
       "1            basic protective measures new coronavirus   \n",
       "2    exposing sun temperatures higher c degrees pre...   \n",
       "3    able hold breath seconds without coughing feel...   \n",
       "4             drinking alcohol protect covid dangerous   \n",
       "..                                                 ...   \n",
       "206  vaccine job eugenicist bill gates demands digi...   \n",
       "207  vaccine job eugenicist bill gates demands digi...   \n",
       "208  coronavirus manufactured bioweapon chinese spi...   \n",
       "209  special report mike adams joins alex jones rev...   \n",
       "210  special report mike adams joins alex jones rev...   \n",
       "\n",
       "                                                  text  \\\n",
       "0    need add water drugs vaccines ready administer...   \n",
       "1    stay aware latest information covid outbreak a...   \n",
       "2    catch covid matter sunny hot weather countries...   \n",
       "3    common symptoms covid dry cough tiredness feve...   \n",
       "4    frequent excessive alcohol consumption increas...   \n",
       "..                                                 ...   \n",
       "206  march outspoken eugenicist bill gates particip...   \n",
       "207  march outspoken eugenicist bill gates particip...   \n",
       "208  mysterious shipment sent canada china found co...   \n",
       "209  today joined alex jones infowars studios recor...   \n",
       "210  today joined alex jones infowars studios recor...   \n",
       "\n",
       "                                                source  label  \\\n",
       "0                            coronavirusmedicalkit com      0   \n",
       "1    ww int emergencies diseases novel coronavirus ...      1   \n",
       "2    ww int emergencies diseases novel coronavirus ...      1   \n",
       "3    ww int emergencies diseases novel coronavirus ...      1   \n",
       "4    ww int emergencies diseases novel coronavirus ...      1   \n",
       "..                                                 ...    ...   \n",
       "206                                     ww banned news      0   \n",
       "207                                     ww biased news      0   \n",
       "208                                     ww biased news      0   \n",
       "209                                     ww biased news      0   \n",
       "210                               ww bioterrorism news      0   \n",
       "\n",
       "                                     title_text_source  predict  \n",
       "0    due recent outbreak coronavirus covid world he...        1  \n",
       "1    basic protective measures new coronavirus stay...        1  \n",
       "2    exposing sun temperatures higher c degrees pre...        1  \n",
       "3    able hold breath seconds without coughing feel...        1  \n",
       "4    drinking alcohol protect covid dangerous frequ...        1  \n",
       "..                                                 ...      ...  \n",
       "206  vaccine job eugenicist bill gates demands digi...        0  \n",
       "207  vaccine job eugenicist bill gates demands digi...        0  \n",
       "208  coronavirus manufactured bioweapon chinese spi...        0  \n",
       "209  special report mike adams joins alex jones rev...        0  \n",
       "210  special report mike adams joins alex jones rev...        0  \n",
       "\n",
       "[211 rows x 6 columns]"
      ]
     },
     "execution_count": 25,
     "metadata": {},
     "output_type": "execute_result"
    }
   ],
   "source": [
    "data_test"
   ]
  }
 ],
 "metadata": {
  "kernelspec": {
   "display_name": "Python 3",
   "language": "python",
   "name": "python3"
  },
  "language_info": {
   "codemirror_mode": {
    "name": "ipython",
    "version": 3
   },
   "file_extension": ".py",
   "mimetype": "text/x-python",
   "name": "python",
   "nbconvert_exporter": "python",
   "pygments_lexer": "ipython3",
   "version": "3.8.5"
  }
 },
 "nbformat": 4,
 "nbformat_minor": 4
}
