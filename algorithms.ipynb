{
 "cells": [
  {
   "cell_type": "code",
   "execution_count": 1,
   "metadata": {},
   "outputs": [],
   "source": [
    "import pandas as pd\n",
    "import numpy as np\n",
    "from sklearn.feature_extraction.text import CountVectorizer\n",
    "from sklearn.model_selection import train_test_split\n",
    "from sklearn.naive_bayes import MultinomialNB\n",
    "from sklearn.metrics import confusion_matrix\n",
    "import matplotlib.pyplot as plt\n",
    "import seaborn as sns"
   ]
  },
  {
   "cell_type": "code",
   "execution_count": 2,
   "metadata": {},
   "outputs": [],
   "source": [
    "from nltk.stem.porter import PorterStemmer\n",
    "from sklearn.feature_extraction.text import TfidfVectorizer\n",
    "import pickle\n",
    "from sklearn.linear_model import LogisticRegressionCV\n",
    "from sklearn.tree import DecisionTreeClassifier\n",
    "from sklearn.ensemble import RandomForestClassifier\n",
    "from sklearn.neighbors import KNeighborsClassifier\n",
    "from sklearn.svm import SVC"
   ]
  },
  {
   "cell_type": "code",
   "execution_count": 3,
   "metadata": {},
   "outputs": [
    {
     "data": {
      "text/html": [
       "<div>\n",
       "<style scoped>\n",
       "    .dataframe tbody tr th:only-of-type {\n",
       "        vertical-align: middle;\n",
       "    }\n",
       "\n",
       "    .dataframe tbody tr th {\n",
       "        vertical-align: top;\n",
       "    }\n",
       "\n",
       "    .dataframe thead th {\n",
       "        text-align: right;\n",
       "    }\n",
       "</style>\n",
       "<table border=\"1\" class=\"dataframe\">\n",
       "  <thead>\n",
       "    <tr style=\"text-align: right;\">\n",
       "      <th></th>\n",
       "      <th>title</th>\n",
       "      <th>text</th>\n",
       "      <th>source</th>\n",
       "      <th>label</th>\n",
       "    </tr>\n",
       "  </thead>\n",
       "  <tbody>\n",
       "    <tr>\n",
       "      <th>0</th>\n",
       "      <td>due recent outbreak coronavirus covid world he...</td>\n",
       "      <td>need add water drugs vaccines ready administer...</td>\n",
       "      <td>coronavirusmedicalkit com</td>\n",
       "      <td>fake</td>\n",
       "    </tr>\n",
       "    <tr>\n",
       "      <th>1</th>\n",
       "      <td>basic protective measures new coronavirus</td>\n",
       "      <td>stay aware latest information covid outbreak a...</td>\n",
       "      <td>ww int emergencies diseases novel coronavirus ...</td>\n",
       "      <td>true</td>\n",
       "    </tr>\n",
       "    <tr>\n",
       "      <th>2</th>\n",
       "      <td>exposing sun temperatures higher c degrees pre...</td>\n",
       "      <td>catch covid matter sunny hot weather countries...</td>\n",
       "      <td>ww int emergencies diseases novel coronavirus ...</td>\n",
       "      <td>true</td>\n",
       "    </tr>\n",
       "    <tr>\n",
       "      <th>3</th>\n",
       "      <td>able hold breath seconds without coughing feel...</td>\n",
       "      <td>common symptoms covid dry cough tiredness feve...</td>\n",
       "      <td>ww int emergencies diseases novel coronavirus ...</td>\n",
       "      <td>true</td>\n",
       "    </tr>\n",
       "    <tr>\n",
       "      <th>4</th>\n",
       "      <td>drinking alcohol protect covid dangerous</td>\n",
       "      <td>frequent excessive alcohol consumption increas...</td>\n",
       "      <td>ww int emergencies diseases novel coronavirus ...</td>\n",
       "      <td>true</td>\n",
       "    </tr>\n",
       "    <tr>\n",
       "      <th>...</th>\n",
       "      <td>...</td>\n",
       "      <td>...</td>\n",
       "      <td>...</td>\n",
       "      <td>...</td>\n",
       "    </tr>\n",
       "    <tr>\n",
       "      <th>1054</th>\n",
       "      <td>could power sun slow coronavirus</td>\n",
       "      <td>study suggests ultraviolet rays could slow vir...</td>\n",
       "      <td>ww nytimes com</td>\n",
       "      <td>true</td>\n",
       "    </tr>\n",
       "    <tr>\n",
       "      <th>1055</th>\n",
       "      <td>key evidence coronavirus spread flawed public ...</td>\n",
       "      <td>last week medical journal reported business tr...</td>\n",
       "      <td>ww nytimes com</td>\n",
       "      <td>true</td>\n",
       "    </tr>\n",
       "    <tr>\n",
       "      <th>1056</th>\n",
       "      <td>summer heat may diminish coronavirus strength</td>\n",
       "      <td>new report sent white house science adviser sa...</td>\n",
       "      <td>ww nytimes com</td>\n",
       "      <td>true</td>\n",
       "    </tr>\n",
       "    <tr>\n",
       "      <th>1057</th>\n",
       "      <td>long vaccine really take</td>\n",
       "      <td>vaccine would ultimate weapon coronavirus best...</td>\n",
       "      <td>ww nytimes com</td>\n",
       "      <td>true</td>\n",
       "    </tr>\n",
       "    <tr>\n",
       "      <th>1058</th>\n",
       "      <td>funding covid response could best investment b...</td>\n",
       "      <td>developing delivering coronavirus vaccines tes...</td>\n",
       "      <td>ww nytimes com</td>\n",
       "      <td>true</td>\n",
       "    </tr>\n",
       "  </tbody>\n",
       "</table>\n",
       "<p>1059 rows × 4 columns</p>\n",
       "</div>"
      ],
      "text/plain": [
       "                                                  title  \\\n",
       "0     due recent outbreak coronavirus covid world he...   \n",
       "1             basic protective measures new coronavirus   \n",
       "2     exposing sun temperatures higher c degrees pre...   \n",
       "3     able hold breath seconds without coughing feel...   \n",
       "4              drinking alcohol protect covid dangerous   \n",
       "...                                                 ...   \n",
       "1054                   could power sun slow coronavirus   \n",
       "1055  key evidence coronavirus spread flawed public ...   \n",
       "1056      summer heat may diminish coronavirus strength   \n",
       "1057                           long vaccine really take   \n",
       "1058  funding covid response could best investment b...   \n",
       "\n",
       "                                                   text  \\\n",
       "0     need add water drugs vaccines ready administer...   \n",
       "1     stay aware latest information covid outbreak a...   \n",
       "2     catch covid matter sunny hot weather countries...   \n",
       "3     common symptoms covid dry cough tiredness feve...   \n",
       "4     frequent excessive alcohol consumption increas...   \n",
       "...                                                 ...   \n",
       "1054  study suggests ultraviolet rays could slow vir...   \n",
       "1055  last week medical journal reported business tr...   \n",
       "1056  new report sent white house science adviser sa...   \n",
       "1057  vaccine would ultimate weapon coronavirus best...   \n",
       "1058  developing delivering coronavirus vaccines tes...   \n",
       "\n",
       "                                                 source label  \n",
       "0                             coronavirusmedicalkit com  fake  \n",
       "1     ww int emergencies diseases novel coronavirus ...  true  \n",
       "2     ww int emergencies diseases novel coronavirus ...  true  \n",
       "3     ww int emergencies diseases novel coronavirus ...  true  \n",
       "4     ww int emergencies diseases novel coronavirus ...  true  \n",
       "...                                                 ...   ...  \n",
       "1054                                     ww nytimes com  true  \n",
       "1055                                     ww nytimes com  true  \n",
       "1056                                     ww nytimes com  true  \n",
       "1057                                     ww nytimes com  true  \n",
       "1058                                     ww nytimes com  true  \n",
       "\n",
       "[1059 rows x 4 columns]"
      ]
     },
     "execution_count": 3,
     "metadata": {},
     "output_type": "execute_result"
    }
   ],
   "source": [
    "url='image_data/'\n",
    "df_data_covid_19 = pd.read_csv('data/preprocessing.csv')\n",
    "df_data_covid_19"
   ]
  },
  {
   "cell_type": "code",
   "execution_count": 4,
   "metadata": {},
   "outputs": [],
   "source": [
    "def merge_3_columns(df):\n",
    "    df['title_text_source'] = df['title'] + ' ' + df['text'] + ' ' + df['source']\n",
    "    return df.dropna()\n",
    "\n",
    "df_data_covid_19=merge_3_columns(df_data_covid_19)"
   ]
  },
  {
   "cell_type": "code",
   "execution_count": 5,
   "metadata": {},
   "outputs": [
    {
     "data": {
      "text/html": [
       "<div>\n",
       "<style scoped>\n",
       "    .dataframe tbody tr th:only-of-type {\n",
       "        vertical-align: middle;\n",
       "    }\n",
       "\n",
       "    .dataframe tbody tr th {\n",
       "        vertical-align: top;\n",
       "    }\n",
       "\n",
       "    .dataframe thead th {\n",
       "        text-align: right;\n",
       "    }\n",
       "</style>\n",
       "<table border=\"1\" class=\"dataframe\">\n",
       "  <thead>\n",
       "    <tr style=\"text-align: right;\">\n",
       "      <th></th>\n",
       "      <th>title</th>\n",
       "      <th>text</th>\n",
       "      <th>source</th>\n",
       "      <th>label</th>\n",
       "      <th>title_text_source</th>\n",
       "    </tr>\n",
       "  </thead>\n",
       "  <tbody>\n",
       "    <tr>\n",
       "      <th>0</th>\n",
       "      <td>due recent outbreak coronavirus covid world he...</td>\n",
       "      <td>need add water drugs vaccines ready administer...</td>\n",
       "      <td>coronavirusmedicalkit com</td>\n",
       "      <td>fake</td>\n",
       "      <td>due recent outbreak coronavirus covid world he...</td>\n",
       "    </tr>\n",
       "    <tr>\n",
       "      <th>1</th>\n",
       "      <td>basic protective measures new coronavirus</td>\n",
       "      <td>stay aware latest information covid outbreak a...</td>\n",
       "      <td>ww int emergencies diseases novel coronavirus ...</td>\n",
       "      <td>true</td>\n",
       "      <td>basic protective measures new coronavirus stay...</td>\n",
       "    </tr>\n",
       "    <tr>\n",
       "      <th>2</th>\n",
       "      <td>exposing sun temperatures higher c degrees pre...</td>\n",
       "      <td>catch covid matter sunny hot weather countries...</td>\n",
       "      <td>ww int emergencies diseases novel coronavirus ...</td>\n",
       "      <td>true</td>\n",
       "      <td>exposing sun temperatures higher c degrees pre...</td>\n",
       "    </tr>\n",
       "    <tr>\n",
       "      <th>3</th>\n",
       "      <td>able hold breath seconds without coughing feel...</td>\n",
       "      <td>common symptoms covid dry cough tiredness feve...</td>\n",
       "      <td>ww int emergencies diseases novel coronavirus ...</td>\n",
       "      <td>true</td>\n",
       "      <td>able hold breath seconds without coughing feel...</td>\n",
       "    </tr>\n",
       "    <tr>\n",
       "      <th>4</th>\n",
       "      <td>drinking alcohol protect covid dangerous</td>\n",
       "      <td>frequent excessive alcohol consumption increas...</td>\n",
       "      <td>ww int emergencies diseases novel coronavirus ...</td>\n",
       "      <td>true</td>\n",
       "      <td>drinking alcohol protect covid dangerous frequ...</td>\n",
       "    </tr>\n",
       "    <tr>\n",
       "      <th>5</th>\n",
       "      <td>covid virus transmitted areas hot humid climates</td>\n",
       "      <td>evidence far covid virus transmitted areas inc...</td>\n",
       "      <td>ww int emergencies diseases novel coronavirus ...</td>\n",
       "      <td>true</td>\n",
       "      <td>covid virus transmitted areas hot humid climat...</td>\n",
       "    </tr>\n",
       "    <tr>\n",
       "      <th>6</th>\n",
       "      <td>cold weather snow kill new coronavirus</td>\n",
       "      <td>reason believe cold weather kill new coronavir...</td>\n",
       "      <td>ww int emergencies diseases novel coronavirus ...</td>\n",
       "      <td>true</td>\n",
       "      <td>cold weather snow kill new coronavirus reason ...</td>\n",
       "    </tr>\n",
       "    <tr>\n",
       "      <th>7</th>\n",
       "      <td>taking hot bath prevent new coronavirus disease</td>\n",
       "      <td>taking hot bath prevent catching covid normal ...</td>\n",
       "      <td>ww int emergencies diseases novel coronavirus ...</td>\n",
       "      <td>true</td>\n",
       "      <td>taking hot bath prevent new coronavirus diseas...</td>\n",
       "    </tr>\n",
       "    <tr>\n",
       "      <th>8</th>\n",
       "      <td>new coronavirus transmitted mosquito bites</td>\n",
       "      <td>date information evidence suggest new coronavi...</td>\n",
       "      <td>ww int emergencies diseases novel coronavirus ...</td>\n",
       "      <td>true</td>\n",
       "      <td>new coronavirus transmitted mosquito bites dat...</td>\n",
       "    </tr>\n",
       "    <tr>\n",
       "      <th>9</th>\n",
       "      <td>hand dryers effective killing new coronavirus</td>\n",
       "      <td>hand dryers effective killing ncov protect new...</td>\n",
       "      <td>ww int emergencies diseases novel coronavirus ...</td>\n",
       "      <td>true</td>\n",
       "      <td>hand dryers effective killing new coronavirus ...</td>\n",
       "    </tr>\n",
       "  </tbody>\n",
       "</table>\n",
       "</div>"
      ],
      "text/plain": [
       "                                               title  \\\n",
       "0  due recent outbreak coronavirus covid world he...   \n",
       "1          basic protective measures new coronavirus   \n",
       "2  exposing sun temperatures higher c degrees pre...   \n",
       "3  able hold breath seconds without coughing feel...   \n",
       "4           drinking alcohol protect covid dangerous   \n",
       "5   covid virus transmitted areas hot humid climates   \n",
       "6             cold weather snow kill new coronavirus   \n",
       "7    taking hot bath prevent new coronavirus disease   \n",
       "8         new coronavirus transmitted mosquito bites   \n",
       "9      hand dryers effective killing new coronavirus   \n",
       "\n",
       "                                                text  \\\n",
       "0  need add water drugs vaccines ready administer...   \n",
       "1  stay aware latest information covid outbreak a...   \n",
       "2  catch covid matter sunny hot weather countries...   \n",
       "3  common symptoms covid dry cough tiredness feve...   \n",
       "4  frequent excessive alcohol consumption increas...   \n",
       "5  evidence far covid virus transmitted areas inc...   \n",
       "6  reason believe cold weather kill new coronavir...   \n",
       "7  taking hot bath prevent catching covid normal ...   \n",
       "8  date information evidence suggest new coronavi...   \n",
       "9  hand dryers effective killing ncov protect new...   \n",
       "\n",
       "                                              source label  \\\n",
       "0                          coronavirusmedicalkit com  fake   \n",
       "1  ww int emergencies diseases novel coronavirus ...  true   \n",
       "2  ww int emergencies diseases novel coronavirus ...  true   \n",
       "3  ww int emergencies diseases novel coronavirus ...  true   \n",
       "4  ww int emergencies diseases novel coronavirus ...  true   \n",
       "5  ww int emergencies diseases novel coronavirus ...  true   \n",
       "6  ww int emergencies diseases novel coronavirus ...  true   \n",
       "7  ww int emergencies diseases novel coronavirus ...  true   \n",
       "8  ww int emergencies diseases novel coronavirus ...  true   \n",
       "9  ww int emergencies diseases novel coronavirus ...  true   \n",
       "\n",
       "                                   title_text_source  \n",
       "0  due recent outbreak coronavirus covid world he...  \n",
       "1  basic protective measures new coronavirus stay...  \n",
       "2  exposing sun temperatures higher c degrees pre...  \n",
       "3  able hold breath seconds without coughing feel...  \n",
       "4  drinking alcohol protect covid dangerous frequ...  \n",
       "5  covid virus transmitted areas hot humid climat...  \n",
       "6  cold weather snow kill new coronavirus reason ...  \n",
       "7  taking hot bath prevent new coronavirus diseas...  \n",
       "8  new coronavirus transmitted mosquito bites dat...  \n",
       "9  hand dryers effective killing new coronavirus ...  "
      ]
     },
     "execution_count": 5,
     "metadata": {},
     "output_type": "execute_result"
    }
   ],
   "source": [
    "df_data_covid_19.head(10)"
   ]
  },
  {
   "cell_type": "code",
   "execution_count": 6,
   "metadata": {},
   "outputs": [
    {
     "data": {
      "text/plain": [
       "title                False\n",
       "text                 False\n",
       "source               False\n",
       "label                False\n",
       "title_text_source    False\n",
       "dtype: bool"
      ]
     },
     "execution_count": 6,
     "metadata": {},
     "output_type": "execute_result"
    }
   ],
   "source": [
    "df_data_covid_19.isnull().any()"
   ]
  },
  {
   "cell_type": "markdown",
   "metadata": {},
   "source": [
    "## TF-IDF"
   ]
  },
  {
   "cell_type": "code",
   "execution_count": 7,
   "metadata": {},
   "outputs": [],
   "source": [
    "def tokenizer_porter(text):\n",
    "    porter = PorterStemmer()\n",
    "    return [porter.stem(word) for word in text.split()]"
   ]
  },
  {
   "cell_type": "code",
   "execution_count": 8,
   "metadata": {},
   "outputs": [],
   "source": [
    "def tf_idf_vectors(df):\n",
    "    tfidf = TfidfVectorizer(strip_accents=None,\n",
    "                            lowercase=False,\n",
    "                            preprocessor=None,\n",
    "                            tokenizer=tokenizer_porter,\n",
    "                            use_idf=True,\n",
    "                            norm='l2',\n",
    "                            smooth_idf=True)\n",
    "    \n",
    "    X = tfidf.fit_transform(df['title_text_source'])\n",
    "    y = df_data_covid_19.label.values\n",
    "    return X, y,tfidf"
   ]
  },
  {
   "cell_type": "code",
   "execution_count": 9,
   "metadata": {},
   "outputs": [],
   "source": [
    "X,y,tfidf=tf_idf_vectors(df_data_covid_19)"
   ]
  },
  {
   "cell_type": "markdown",
   "metadata": {},
   "source": [
    "## Save/ Show model"
   ]
  },
  {
   "cell_type": "code",
   "execution_count": 10,
   "metadata": {},
   "outputs": [],
   "source": [
    "from sklearn.metrics import precision_recall_fscore_support as score\n",
    "from sklearn.datasets import make_classification\n",
    "#from sklearn.cross_validation import StratifiedShuffleSplit\n",
    "from sklearn.metrics import accuracy_score, f1_score, precision_score, recall_score, classification_report, confusion_matrix\n"
   ]
  },
  {
   "cell_type": "code",
   "execution_count": 11,
   "metadata": {},
   "outputs": [],
   "source": [
    "def save_model(clf_,filename):\n",
    "    model = open('data/'+filename+'.sav', 'wb')\n",
    "    pickle.dump(clf_, model)\n",
    "    model.close()"
   ]
  },
  {
   "cell_type": "code",
   "execution_count": 12,
   "metadata": {},
   "outputs": [],
   "source": [
    "def show_model_evaluation(filename, X_test, y_test):\n",
    "    # get modle\n",
    "    clf_= pickle.load(open('data/'+filename+'.sav', 'rb'))\n",
    "    # Predicting the Test set results\n",
    "    predictions = clf_.predict(X_test)\n",
    "    # Making the Confusion Matrix\n",
    "    cm = confusion_matrix(y_test, predictions)\n",
    "    \n",
    "    precision, recall, fscore, support = score(y_test, predictions)\n",
    "    #print('precision train-test: {}'.format(precision))\n",
    "    #print('recall train-test: {}'.format(recall))\n",
    "    #print('fscore train-test: {}'.format(fscore))\n",
    "    #print('support: {}'.format(support))\n",
    "    \n",
    "    \n",
    "    print(\"Accuracy Classifier: {}%\".format(round(accuracy_score(y_test, predictions)*100,2)))\n",
    "    #print(\"\\nConfusion Matrix :\\n\")\n",
    "    #print(confusion_matrix(y_test, predictions))\n",
    "    print(\"\\nClassification Report:\\n\")\n",
    "    print(classification_report(y_test, predictions))\n",
    "\n",
    "    plt.figure(figsize=(6,6))\n",
    "    sns.heatmap(cm, annot=True, fmt='d', xticklabels=['FAKE', 'TRUE'], yticklabels=['FAKE', 'TRUE'], cmap=plt.cm.Blues, cbar=False)\n",
    "    plt.xlabel('Predicted Label')\n",
    "    plt.ylabel('True Label')\n",
    "    plt.title(filename)\n",
    "    plt.savefig(url+filename+'.png')\n",
    "    plt.show()"
   ]
  },
  {
   "cell_type": "markdown",
   "metadata": {},
   "source": [
    "## naïve_bayes_classifier"
   ]
  },
  {
   "cell_type": "code",
   "execution_count": 14,
   "metadata": {},
   "outputs": [],
   "source": [
    "def naïve_bayes_classifier(df,X,y):\n",
    "    X_train, X_test, y_train, y_test = train_test_split(X, y, shuffle=True, test_size=0.2, random_state=11) \n",
    "    classifier = MultinomialNB()\n",
    "    classifier.fit(X_train, y_train)\n",
    "    print('accuracy on train data: ', classifier.score(X_train, y_train))\n",
    "    print('accuracy on test data: ', classifier.score(X_test, y_test))\n",
    "    \n",
    "    # save model\n",
    "    save_model(classifier,'naïve_bayes_model')\n",
    "    return X_test, y_test"
   ]
  },
  {
   "cell_type": "code",
   "execution_count": 15,
   "metadata": {},
   "outputs": [
    {
     "name": "stdout",
     "output_type": "stream",
     "text": [
      "accuracy on train data:  0.9385342789598109\n",
      "accuracy on test data:  0.8962264150943396\n"
     ]
    }
   ],
   "source": [
    "X_test, y_test=naïve_bayes_classifier(df_data_covid_19,X,y)"
   ]
  },
  {
   "cell_type": "code",
   "execution_count": 16,
   "metadata": {},
   "outputs": [
    {
     "name": "stdout",
     "output_type": "stream",
     "text": [
      "Accuracy Classifier: 89.62%\n",
      "\n",
      "Classification Report:\n",
      "\n",
      "              precision    recall  f1-score   support\n",
      "\n",
      "        fake       0.91      0.85      0.88        95\n",
      "        true       0.89      0.93      0.91       117\n",
      "\n",
      "    accuracy                           0.90       212\n",
      "   macro avg       0.90      0.89      0.89       212\n",
      "weighted avg       0.90      0.90      0.90       212\n",
      "\n"
     ]
    },
    {
     "data": {
      "image/png": "[encoded data removed]",
      "text/plain": [
       "<Figure size 432x432 with 1 Axes>"
      ]
     },
     "metadata": {
      "needs_background": "light"
     },
     "output_type": "display_data"
    }
   ],
   "source": [
    "show_model_evaluation('naïve_bayes_model',X_test, y_test)"
   ]
  },
  {
   "cell_type": "markdown",
   "metadata": {},
   "source": [
    "## logistic regression"
   ]
  },
  {
   "cell_type": "code",
   "execution_count": 17,
   "metadata": {},
   "outputs": [],
   "source": [
    "def logistic_regression(X,y):\n",
    "    X_train, X_test, y_train, y_test = train_test_split(X, y, random_state=0, test_size=0.2, shuffle=False)\n",
    "    classifier=LogisticRegressionCV(cv=5,scoring='accuracy',random_state=0,n_jobs=-1,verbose=3,max_iter=300).fit(X_train,y_train)\n",
    "    print('accuracy on train data: ', classifier.score(X_train, y_train))\n",
    "    print('accuracy on test data: ', classifier.score(X_test, y_test))\n",
    "    \n",
    "    # save model\n",
    "    save_model(classifier,'logistic_regression_model')\n",
    "    return X_test, y_test"
   ]
  },
  {
   "cell_type": "code",
   "execution_count": 18,
   "metadata": {},
   "outputs": [
    {
     "name": "stderr",
     "output_type": "stream",
     "text": [
      "[Parallel(n_jobs=-1)]: Using backend LokyBackend with 8 concurrent workers.\n",
      "[Parallel(n_jobs=-1)]: Done   2 out of   5 | elapsed:    5.1s remaining:    7.7s\n",
      "[Parallel(n_jobs=-1)]: Done   5 out of   5 | elapsed:    5.4s finished\n"
     ]
    },
    {
     "name": "stdout",
     "output_type": "stream",
     "text": [
      "accuracy on train data:  1.0\n",
      "accuracy on test data:  0.9339622641509434\n"
     ]
    }
   ],
   "source": [
    "X_test, y_test=logistic_regression(X,y)"
   ]
  },
  {
   "cell_type": "code",
   "execution_count": 19,
   "metadata": {},
   "outputs": [
    {
     "name": "stdout",
     "output_type": "stream",
     "text": [
      "Accuracy Classifier: 93.4%\n",
      "\n",
      "Classification Report:\n",
      "\n",
      "              precision    recall  f1-score   support\n",
      "\n",
      "        fake       0.92      0.92      0.92        91\n",
      "        true       0.94      0.94      0.94       121\n",
      "\n",
      "    accuracy                           0.93       212\n",
      "   macro avg       0.93      0.93      0.93       212\n",
      "weighted avg       0.93      0.93      0.93       212\n",
      "\n"
     ]
    },
    {
     "data": {
      "image/png": "[encoded data removed]",
      "text/plain": [
       "<Figure size 432x432 with 1 Axes>"
      ]
     },
     "metadata": {
      "needs_background": "light"
     },
     "output_type": "display_data"
    }
   ],
   "source": [
    "show_model_evaluation('logistic_regression_model',X_test, y_test)"
   ]
  },
  {
   "cell_type": "markdown",
   "metadata": {},
   "source": [
    "## Decision tree classifier"
   ]
  },
  {
   "cell_type": "code",
   "execution_count": 20,
   "metadata": {},
   "outputs": [],
   "source": [
    "def decision_tree_classifier(X,y):\n",
    "    X_train, X_test, y_train, y_test = train_test_split(X, y, shuffle=True, test_size=0.2, random_state=11)\n",
    "    classifier = DecisionTreeClassifier(criterion = 'entropy', random_state = 0)\n",
    "    classifier.fit(X_train, y_train)\n",
    "    print('accuracy on train data: ', classifier.score(X_train, y_train))\n",
    "    print('accuracy on test data: ', classifier.score(X_test, y_test))\n",
    "\n",
    "    # save model\n",
    "    save_model(classifier,'decision_tree_classifier')\n",
    "    return X_test, y_test"
   ]
  },
  {
   "cell_type": "code",
   "execution_count": 21,
   "metadata": {},
   "outputs": [
    {
     "name": "stdout",
     "output_type": "stream",
     "text": [
      "accuracy on train data:  1.0\n",
      "accuracy on test data:  0.8349056603773585\n"
     ]
    }
   ],
   "source": [
    "X_test, y_test=decision_tree_classifier(X,y)"
   ]
  },
  {
   "cell_type": "code",
   "execution_count": 22,
   "metadata": {},
   "outputs": [
    {
     "name": "stdout",
     "output_type": "stream",
     "text": [
      "Accuracy Classifier: 83.49%\n",
      "\n",
      "Classification Report:\n",
      "\n",
      "              precision    recall  f1-score   support\n",
      "\n",
      "        fake       0.79      0.86      0.82        95\n",
      "        true       0.88      0.81      0.84       117\n",
      "\n",
      "    accuracy                           0.83       212\n",
      "   macro avg       0.83      0.84      0.83       212\n",
      "weighted avg       0.84      0.83      0.84       212\n",
      "\n"
     ]
    },
    {
     "data": {
      "image/png": "[encoded data removed]",
      "text/plain": [
       "<Figure size 432x432 with 1 Axes>"
      ]
     },
     "metadata": {
      "needs_background": "light"
     },
     "output_type": "display_data"
    }
   ],
   "source": [
    "show_model_evaluation('decision_tree_classifier',X_test, y_test)"
   ]
  },
  {
   "cell_type": "markdown",
   "metadata": {},
   "source": [
    "## Random forest"
   ]
  },
  {
   "cell_type": "code",
   "execution_count": 23,
   "metadata": {},
   "outputs": [],
   "source": [
    "def random_forest_classifier(X,y):\n",
    "    X_train, X_test, y_train, y_test = train_test_split(X, y, shuffle=True, test_size=0.2, random_state=11)\n",
    "    classifier = RandomForestClassifier(n_estimators = 10, criterion = 'entropy', random_state = 0)\n",
    "    classifier.fit(X_train, y_train)\n",
    "    print('accuracy on train data: ', classifier.score(X_train, y_train))\n",
    "    print('accuracy on test data: ', classifier.score(X_test, y_test))\n",
    "    \n",
    "    # save model\n",
    "    save_model(classifier,'random_forest_classifier')\n",
    "    return X_test, y_test"
   ]
  },
  {
   "cell_type": "code",
   "execution_count": 24,
   "metadata": {},
   "outputs": [
    {
     "name": "stdout",
     "output_type": "stream",
     "text": [
      "accuracy on train data:  0.9976359338061466\n",
      "accuracy on test data:  0.8490566037735849\n"
     ]
    }
   ],
   "source": [
    "X_test, y_test=random_forest_classifier(X,y)"
   ]
  },
  {
   "cell_type": "code",
   "execution_count": 25,
   "metadata": {},
   "outputs": [
    {
     "name": "stdout",
     "output_type": "stream",
     "text": [
      "Accuracy Classifier: 84.91%\n",
      "\n",
      "Classification Report:\n",
      "\n",
      "              precision    recall  f1-score   support\n",
      "\n",
      "        fake       0.77      0.94      0.85        95\n",
      "        true       0.94      0.78      0.85       117\n",
      "\n",
      "    accuracy                           0.85       212\n",
      "   macro avg       0.86      0.86      0.85       212\n",
      "weighted avg       0.86      0.85      0.85       212\n",
      "\n"
     ]
    },
    {
     "data": {
      "image/png": "[encoded data removed]",
      "text/plain": [
       "<Figure size 432x432 with 1 Axes>"
      ]
     },
     "metadata": {
      "needs_background": "light"
     },
     "output_type": "display_data"
    }
   ],
   "source": [
    "show_model_evaluation('random_forest_classifier',X_test, y_test)"
   ]
  },
  {
   "cell_type": "markdown",
   "metadata": {},
   "source": [
    "## KNeighbors_classifier"
   ]
  },
  {
   "cell_type": "code",
   "execution_count": 26,
   "metadata": {},
   "outputs": [],
   "source": [
    "def knn(X,y):\n",
    "    X_train, X_test, y_train, y_test = train_test_split(X, y, shuffle=True, test_size=0.2, random_state=11)\n",
    "    classifier = KNeighborsClassifier(n_neighbors = 4, metric = 'minkowski', p = 2)\n",
    "    classifier.fit(X_train, y_train)\n",
    "    print('accuracy on train data: ', classifier.score(X_train, y_train))\n",
    "    print('accuracy on test data: ', classifier.score(X_test, y_test))\n",
    "\n",
    "    # save model\n",
    "    save_model(classifier,'KNN')\n",
    "    return X_test, y_test"
   ]
  },
  {
   "cell_type": "code",
   "execution_count": 27,
   "metadata": {},
   "outputs": [
    {
     "name": "stdout",
     "output_type": "stream",
     "text": [
      "accuracy on train data:  0.933806146572104\n",
      "accuracy on test data:  0.9056603773584906\n"
     ]
    }
   ],
   "source": [
    "X_test, y_test=knn(X,y)"
   ]
  },
  {
   "cell_type": "code",
   "execution_count": 28,
   "metadata": {},
   "outputs": [
    {
     "name": "stdout",
     "output_type": "stream",
     "text": [
      "Accuracy Classifier: 90.57%\n",
      "\n",
      "Classification Report:\n",
      "\n",
      "              precision    recall  f1-score   support\n",
      "\n",
      "        fake       0.88      0.92      0.90        95\n",
      "        true       0.93      0.90      0.91       117\n",
      "\n",
      "    accuracy                           0.91       212\n",
      "   macro avg       0.90      0.91      0.90       212\n",
      "weighted avg       0.91      0.91      0.91       212\n",
      "\n"
     ]
    },
    {
     "data": {
      "image/png": "[encoded data removed]",
      "text/plain": [
       "<Figure size 432x432 with 1 Axes>"
      ]
     },
     "metadata": {
      "needs_background": "light"
     },
     "output_type": "display_data"
    }
   ],
   "source": [
    "show_model_evaluation('KNN',X_test, y_test)"
   ]
  },
  {
   "cell_type": "markdown",
   "metadata": {},
   "source": [
    "## SVC"
   ]
  },
  {
   "cell_type": "code",
   "execution_count": 44,
   "metadata": {},
   "outputs": [],
   "source": [
    "def svc(X,y):\n",
    "    X_train, X_test, y_train, y_test = train_test_split(X, y, shuffle=True, test_size=0.2, random_state=11)\n",
    "    classifier = SVC(kernel = 'linear', random_state = 0)\n",
    "    classifier.fit(X_train, y_train)\n",
    "    print('accuracy on train data: ', classifier.score(X_train, y_train))\n",
    "    print('accuracy on test data: ', classifier.score(X_test, y_test))\n",
    "    \n",
    "    # save model\n",
    "    save_model(classifier,'SVC')\n",
    "    return X_test, y_test, classifier"
   ]
  },
  {
   "cell_type": "code",
   "execution_count": 45,
   "metadata": {},
   "outputs": [
    {
     "name": "stdout",
     "output_type": "stream",
     "text": [
      "accuracy on train data:  0.991725768321513\n",
      "accuracy on test data:  0.9433962264150944\n"
     ]
    }
   ],
   "source": [
    "X_test, y_test,classifier=svc(X,y)"
   ]
  },
  {
   "cell_type": "code",
   "execution_count": 47,
   "metadata": {},
   "outputs": [
    {
     "name": "stdout",
     "output_type": "stream",
     "text": [
      "Accuracy Classifier: 94.34%\n",
      "\n",
      "Classification Report:\n",
      "\n",
      "              precision    recall  f1-score   support\n",
      "\n",
      "        fake       0.94      0.94      0.94        95\n",
      "        true       0.95      0.95      0.95       117\n",
      "\n",
      "    accuracy                           0.94       212\n",
      "   macro avg       0.94      0.94      0.94       212\n",
      "weighted avg       0.94      0.94      0.94       212\n",
      "\n"
     ]
    },
    {
     "data": {
      "image/png": "[encoded data removed]",
      "text/plain": [
       "<Figure size 432x432 with 1 Axes>"
      ]
     },
     "metadata": {
      "needs_background": "light"
     },
     "output_type": "display_data"
    }
   ],
   "source": [
    "show_model_evaluation('SVC',X_test, y_test)"
   ]
  }
 ],
 "metadata": {
  "kernelspec": {
   "display_name": "Python 3",
   "language": "python",
   "name": "python3"
  },
  "language_info": {
   "codemirror_mode": {
    "name": "ipython",
    "version": 3
   },
   "file_extension": ".py",
   "mimetype": "text/x-python",
   "name": "python",
   "nbconvert_exporter": "python",
   "pygments_lexer": "ipython3",
   "version": "3.8.5"
  }
 },
 "nbformat": 4,
 "nbformat_minor": 4
}
